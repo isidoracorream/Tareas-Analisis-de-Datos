{
 "cells": [
  {
   "cell_type": "markdown",
   "metadata": {},
   "source": [
    "### 1) Encontrar los datos"
   ]
  },
  {
   "cell_type": "code",
   "execution_count": 17,
   "metadata": {
    "collapsed": true
   },
   "outputs": [],
   "source": [
    "import pandas as pd\n",
    "from functools import reduce\n",
    "url_1 = 'https://raw.githubusercontent.com/leoferres/gitiele356b/main/data/pobXedadCenso.csv'\n",
    "pob_censo_edad = pd.read_csv(url_1)\n",
    "url_2 = 'https://raw.githubusercontent.com/leoferres/gitiele356b/main/data/hdi.csv'\n",
    "hdi = pd.read_csv(url_2)\n",
    "\n",
    "\n",
    "urls=[\n",
    "'vacunacion_comuna_edad_1eraDosis_std.csv',\n",
    "'vacunacion_comuna_edad_2daDosis_std.csv',\n",
    "'vacunacion_comuna_edad_UnicaDosis_std.csv']\n",
    "vacunacion=[]\n",
    "for i in range(len(urls)):\n",
    "    vacunacion.append(pd.read_csv('https://raw.githubusercontent.com/MinCiencia/Datos-COVID19/master/output/producto81/'+ urls[i]))\n",
    "\n",
    "\n",
    "\n"
   ]
  },
  {
   "cell_type": "markdown",
   "metadata": {},
   "source": [
    "### 2) Pre-procesamiento y limpieza de los datos:"
   ]
  },
  {
   "cell_type": "code",
   "execution_count": 21,
   "metadata": {
    "collapsed": false
   },
   "outputs": [
    {
     "ename": "TypeError",
     "evalue": "group() got an unexpected keyword argument 'dropna'",
     "output_type": "error",
     "traceback": [
      "\u001b[0;31m---------------------------------------------------------------------------\u001b[0m",
      "\u001b[0;31mTypeError\u001b[0m                                 Traceback (most recent call last)",
      "\u001b[0;32m<ipython-input-21-1032aec59ef0>\u001b[0m in \u001b[0;36m<module>\u001b[0;34m()\u001b[0m\n\u001b[1;32m     18\u001b[0m \u001b[0mdf_vacunacion\u001b[0m\u001b[1;33m[\u001b[0m\u001b[1;34m'RangoEtareo'\u001b[0m\u001b[1;33m]\u001b[0m \u001b[1;33m=\u001b[0m\u001b[0mRangoEtareo\u001b[0m\u001b[1;33m\u001b[0m\u001b[0m\n\u001b[1;32m     19\u001b[0m \u001b[0mdf_vacunacion\u001b[0m\u001b[1;33m=\u001b[0m\u001b[0mdf_vacunacion\u001b[0m\u001b[1;33m.\u001b[0m\u001b[0mrename\u001b[0m\u001b[1;33m(\u001b[0m\u001b[0mcolumns\u001b[0m\u001b[1;33m=\u001b[0m\u001b[1;33m{\u001b[0m\u001b[1;34m'Codigo comuna'\u001b[0m\u001b[1;33m:\u001b[0m \u001b[1;34m'COMUNA'\u001b[0m\u001b[1;33m}\u001b[0m\u001b[1;33m)\u001b[0m\u001b[1;33m\u001b[0m\u001b[0m\n\u001b[0;32m---> 20\u001b[0;31m \u001b[0mdf_vacunacion\u001b[0m\u001b[1;33m=\u001b[0m\u001b[0mdf_vacunacion\u001b[0m\u001b[1;33m[\u001b[0m\u001b[1;33m[\u001b[0m\u001b[1;34m'COMUNA'\u001b[0m\u001b[1;33m,\u001b[0m\u001b[1;34m'RangoEtareo'\u001b[0m\u001b[1;33m,\u001b[0m\u001b[1;34m'Primera Dosis'\u001b[0m\u001b[1;33m,\u001b[0m\u001b[1;34m'Segunda Dosis'\u001b[0m\u001b[1;33m,\u001b[0m\u001b[1;34m'Unica Dosis'\u001b[0m\u001b[1;33m]\u001b[0m\u001b[1;33m]\u001b[0m\u001b[1;33m.\u001b[0m\u001b[0mgroupby\u001b[0m\u001b[1;33m(\u001b[0m\u001b[0mby\u001b[0m\u001b[1;33m=\u001b[0m\u001b[1;33m[\u001b[0m\u001b[1;34m\"COMUNA\"\u001b[0m\u001b[1;33m,\u001b[0m\u001b[1;34m'RangoEtareo'\u001b[0m\u001b[1;33m]\u001b[0m\u001b[1;33m,\u001b[0m \u001b[0mdropna\u001b[0m\u001b[1;33m=\u001b[0m\u001b[1;32mFalse\u001b[0m\u001b[1;33m)\u001b[0m\u001b[1;33m.\u001b[0m\u001b[0msum\u001b[0m\u001b[1;33m(\u001b[0m\u001b[1;33m)\u001b[0m\u001b[1;33m.\u001b[0m\u001b[0mreset_index\u001b[0m\u001b[1;33m(\u001b[0m\u001b[1;33m)\u001b[0m\u001b[1;33m\u001b[0m\u001b[0m\n\u001b[0m\u001b[1;32m     21\u001b[0m \u001b[1;33m\u001b[0m\u001b[0m\n\u001b[1;32m     22\u001b[0m \u001b[0mpob_censo_edad\u001b[0m\u001b[1;33m=\u001b[0m\u001b[0mpob_censo_edad\u001b[0m\u001b[1;33m.\u001b[0m\u001b[0mreplace\u001b[0m\u001b[1;33m(\u001b[0m\u001b[1;34m'*'\u001b[0m\u001b[1;33m,\u001b[0m\u001b[1;36m0\u001b[0m\u001b[1;33m)\u001b[0m\u001b[1;33m\u001b[0m\u001b[0m\n",
      "\u001b[0;32mC:\\Users\\isico\\Anaconda3\\lib\\site-packages\\pandas\\core\\generic.py\u001b[0m in \u001b[0;36mgroupby\u001b[0;34m(self, by, axis, level, as_index, sort, group_keys, squeeze, **kwargs)\u001b[0m\n\u001b[1;32m   3989\u001b[0m         return groupby(self, by=by, axis=axis, level=level, as_index=as_index,\n\u001b[1;32m   3990\u001b[0m                        \u001b[0msort\u001b[0m\u001b[1;33m=\u001b[0m\u001b[0msort\u001b[0m\u001b[1;33m,\u001b[0m \u001b[0mgroup_keys\u001b[0m\u001b[1;33m=\u001b[0m\u001b[0mgroup_keys\u001b[0m\u001b[1;33m,\u001b[0m \u001b[0msqueeze\u001b[0m\u001b[1;33m=\u001b[0m\u001b[0msqueeze\u001b[0m\u001b[1;33m,\u001b[0m\u001b[1;33m\u001b[0m\u001b[0m\n\u001b[0;32m-> 3991\u001b[0;31m                        **kwargs)\n\u001b[0m\u001b[1;32m   3992\u001b[0m \u001b[1;33m\u001b[0m\u001b[0m\n\u001b[1;32m   3993\u001b[0m     \u001b[1;32mdef\u001b[0m \u001b[0masfreq\u001b[0m\u001b[1;33m(\u001b[0m\u001b[0mself\u001b[0m\u001b[1;33m,\u001b[0m \u001b[0mfreq\u001b[0m\u001b[1;33m,\u001b[0m \u001b[0mmethod\u001b[0m\u001b[1;33m=\u001b[0m\u001b[1;32mNone\u001b[0m\u001b[1;33m,\u001b[0m \u001b[0mhow\u001b[0m\u001b[1;33m=\u001b[0m\u001b[1;32mNone\u001b[0m\u001b[1;33m,\u001b[0m \u001b[0mnormalize\u001b[0m\u001b[1;33m=\u001b[0m\u001b[1;32mFalse\u001b[0m\u001b[1;33m)\u001b[0m\u001b[1;33m:\u001b[0m\u001b[1;33m\u001b[0m\u001b[0m\n",
      "\u001b[0;32mC:\\Users\\isico\\Anaconda3\\lib\\site-packages\\pandas\\core\\groupby.py\u001b[0m in \u001b[0;36mgroupby\u001b[0;34m(obj, by, **kwds)\u001b[0m\n\u001b[1;32m   1509\u001b[0m         \u001b[1;32mraise\u001b[0m \u001b[0mTypeError\u001b[0m\u001b[1;33m(\u001b[0m\u001b[1;34m'invalid type: %s'\u001b[0m \u001b[1;33m%\u001b[0m \u001b[0mtype\u001b[0m\u001b[1;33m(\u001b[0m\u001b[0mobj\u001b[0m\u001b[1;33m)\u001b[0m\u001b[1;33m)\u001b[0m\u001b[1;33m\u001b[0m\u001b[0m\n\u001b[1;32m   1510\u001b[0m \u001b[1;33m\u001b[0m\u001b[0m\n\u001b[0;32m-> 1511\u001b[0;31m     \u001b[1;32mreturn\u001b[0m \u001b[0mklass\u001b[0m\u001b[1;33m(\u001b[0m\u001b[0mobj\u001b[0m\u001b[1;33m,\u001b[0m \u001b[0mby\u001b[0m\u001b[1;33m,\u001b[0m \u001b[1;33m**\u001b[0m\u001b[0mkwds\u001b[0m\u001b[1;33m)\u001b[0m\u001b[1;33m\u001b[0m\u001b[0m\n\u001b[0m\u001b[1;32m   1512\u001b[0m \u001b[1;33m\u001b[0m\u001b[0m\n\u001b[1;32m   1513\u001b[0m \u001b[1;33m\u001b[0m\u001b[0m\n",
      "\u001b[0;32mC:\\Users\\isico\\Anaconda3\\lib\\site-packages\\pandas\\core\\groupby.py\u001b[0m in \u001b[0;36m__init__\u001b[0;34m(self, obj, keys, axis, level, grouper, exclusions, selection, as_index, sort, group_keys, squeeze, **kwargs)\u001b[0m\n\u001b[1;32m    376\u001b[0m \u001b[1;33m\u001b[0m\u001b[0m\n\u001b[1;32m    377\u001b[0m         \u001b[1;31m# we accept no other args\u001b[0m\u001b[1;33m\u001b[0m\u001b[1;33m\u001b[0m\u001b[0m\n\u001b[0;32m--> 378\u001b[0;31m         \u001b[0mvalidate_kwargs\u001b[0m\u001b[1;33m(\u001b[0m\u001b[1;34m'group'\u001b[0m\u001b[1;33m,\u001b[0m \u001b[0mkwargs\u001b[0m\u001b[1;33m,\u001b[0m \u001b[1;33m{\u001b[0m\u001b[1;33m}\u001b[0m\u001b[1;33m)\u001b[0m\u001b[1;33m\u001b[0m\u001b[0m\n\u001b[0m\u001b[1;32m    379\u001b[0m \u001b[1;33m\u001b[0m\u001b[0m\n\u001b[1;32m    380\u001b[0m     \u001b[1;32mdef\u001b[0m \u001b[0m__len__\u001b[0m\u001b[1;33m(\u001b[0m\u001b[0mself\u001b[0m\u001b[1;33m)\u001b[0m\u001b[1;33m:\u001b[0m\u001b[1;33m\u001b[0m\u001b[0m\n",
      "\u001b[0;32mC:\\Users\\isico\\Anaconda3\\lib\\site-packages\\pandas\\util\\validators.py\u001b[0m in \u001b[0;36mvalidate_kwargs\u001b[0;34m(fname, kwargs, compat_args)\u001b[0m\n\u001b[1;32m    153\u001b[0m     \"\"\"\n\u001b[1;32m    154\u001b[0m     \u001b[0mkwds\u001b[0m \u001b[1;33m=\u001b[0m \u001b[0mkwargs\u001b[0m\u001b[1;33m.\u001b[0m\u001b[0mcopy\u001b[0m\u001b[1;33m(\u001b[0m\u001b[1;33m)\u001b[0m\u001b[1;33m\u001b[0m\u001b[0m\n\u001b[0;32m--> 155\u001b[0;31m     \u001b[0m_check_for_invalid_keys\u001b[0m\u001b[1;33m(\u001b[0m\u001b[0mfname\u001b[0m\u001b[1;33m,\u001b[0m \u001b[0mkwargs\u001b[0m\u001b[1;33m,\u001b[0m \u001b[0mcompat_args\u001b[0m\u001b[1;33m)\u001b[0m\u001b[1;33m\u001b[0m\u001b[0m\n\u001b[0m\u001b[1;32m    156\u001b[0m     \u001b[0m_check_for_default_values\u001b[0m\u001b[1;33m(\u001b[0m\u001b[0mfname\u001b[0m\u001b[1;33m,\u001b[0m \u001b[0mkwds\u001b[0m\u001b[1;33m,\u001b[0m \u001b[0mcompat_args\u001b[0m\u001b[1;33m)\u001b[0m\u001b[1;33m\u001b[0m\u001b[0m\n\u001b[1;32m    157\u001b[0m \u001b[1;33m\u001b[0m\u001b[0m\n",
      "\u001b[0;32mC:\\Users\\isico\\Anaconda3\\lib\\site-packages\\pandas\\util\\validators.py\u001b[0m in \u001b[0;36m_check_for_invalid_keys\u001b[0;34m(fname, kwargs, compat_args)\u001b[0m\n\u001b[1;32m    124\u001b[0m         raise TypeError((\"{fname}() got an unexpected \"\n\u001b[1;32m    125\u001b[0m                          \u001b[1;34m\"keyword argument '{arg}'\"\u001b[0m\u001b[1;33m.\u001b[0m\u001b[1;33m\u001b[0m\u001b[0m\n\u001b[0;32m--> 126\u001b[0;31m                          format(fname=fname, arg=bad_arg)))\n\u001b[0m\u001b[1;32m    127\u001b[0m \u001b[1;33m\u001b[0m\u001b[0m\n\u001b[1;32m    128\u001b[0m \u001b[1;33m\u001b[0m\u001b[0m\n",
      "\u001b[0;31mTypeError\u001b[0m: group() got an unexpected keyword argument 'dropna'"
     ]
    }
   ],
   "source": [
    "df_vacunacion = reduce(lambda  left,right: pd.merge(left,right,on=['Region','Codigo region' ,'Comuna','Codigo comuna', 'Edad'],\n",
    "                                            how='left'), vacunacion)\n",
    "\n",
    "df_vacunacion[\"Codigo comuna\"] = pd.to_numeric(df_vacunacion[\"Codigo comuna\"])\n",
    "Edad=df_vacunacion['Edad']\n",
    "RangoEtareo=[]\n",
    "eiqueta=['EDAD_0A5','EDAD_6A14','EDAD_15A64','EDAD_65YMAS']\n",
    "for i in range(df_vacunacion.shape[0]):\n",
    "    if Edad[i]<=5:\n",
    "        RangoEtareo.append(eiqueta[0])\n",
    "    elif (Edad[i]>=6)&(Edad[i]<=14):\n",
    "        RangoEtareo.append(eiqueta[1])\n",
    "    elif (Edad[i]>=15)&(Edad[i]<=64):\n",
    "        RangoEtareo.append(eiqueta[2])\n",
    "    elif (Edad[i]>=65):\n",
    "        RangoEtareo.append(eiqueta[3])\n",
    "        \n",
    "df_vacunacion['RangoEtareo'] =RangoEtareo\n",
    "df_vacunacion=df_vacunacion.rename(columns={'Codigo comuna': 'COMUNA'})\n",
    "df_vacunacion=df_vacunacion[['COMUNA','RangoEtareo','Primera Dosis','Segunda Dosis','Unica Dosis']].groupby(by=[\"COMUNA\",'RangoEtareo'], dropna=False).sum().reset_index()\n",
    "\n",
    "pob_censo_edad=pob_censo_edad.replace('*',0)\n",
    "\n",
    "pob_censo_edad.dtypes\n",
    "\n",
    "pob_censo_edad = pob_censo_edad.astype({\n",
    "    'EDAD_0A5': 'int64',\n",
    "    'EDAD_6A14': 'int64',\n",
    "    'EDAD_15A64': 'int64',\n",
    "    'EDAD_65YMAS':'int64'    \n",
    "})\n",
    "#\n",
    "pob_censo_edad_gb=pob_censo_edad.groupby(by=[\"COMUNA\"], dropna=True).sum().reset_index()\n",
    "pob_censo_edadmelt=pd.melt(pob_censo_edad_gb, id_vars =['COMUNA'], value_vars =eiqueta,value_name='habitantes',var_name='RangoEtareo')\n",
    "pob_censo_edadmelt[\"COMUNA\"] = pd.to_numeric(pob_censo_edadmelt[\"COMUNA\"])\n",
    "hdi=hdi.rename(columns={'comuna': 'COMUNA'})\n",
    "hdi=hdi[['COMUNA','HDI']]\n",
    "hdi[\"COMUNA\"] = pd.to_numeric(hdi[\"COMUNA\"])\n",
    "\n",
    "df = pd.merge(df_vacunacion,pob_censo_edadmelt,on=['COMUNA','RangoEtareo'],  how='left')\n",
    "df = pd.merge(df,hdi,on=['COMUNA'],  how='left')\n",
    "df=df.dropna()\n",
    "df=df.set_index('COMUNA')"
   ]
  },
  {
   "cell_type": "markdown",
   "metadata": {},
   "source": [
    "\n",
    "### 3) Tratamiento de la correlación\n",
    "\n"
   ]
  },
  {
   "cell_type": "code",
   "execution_count": 16,
   "metadata": {
    "collapsed": false
   },
   "outputs": [
    {
     "ename": "NameError",
     "evalue": "name 'df' is not defined",
     "output_type": "error",
     "traceback": [
      "\u001b[0;31m---------------------------------------------------------------------------\u001b[0m",
      "\u001b[0;31mNameError\u001b[0m                                 Traceback (most recent call last)",
      "\u001b[0;32m<ipython-input-16-305c5cf8c6c0>\u001b[0m in \u001b[0;36m<module>\u001b[0;34m()\u001b[0m\n\u001b[0;32m----> 1\u001b[0;31m \u001b[0mdf\u001b[0m\u001b[1;33m.\u001b[0m\u001b[0mloc\u001b[0m\u001b[1;33m[\u001b[0m\u001b[0mdf\u001b[0m\u001b[1;33m[\u001b[0m\u001b[1;34m'RangoEtareo'\u001b[0m\u001b[1;33m]\u001b[0m\u001b[1;33m==\u001b[0m\u001b[1;34m'EDAD_0A5'\u001b[0m\u001b[1;33m]\u001b[0m\u001b[1;33m.\u001b[0m\u001b[0mcorr\u001b[0m\u001b[1;33m(\u001b[0m\u001b[1;33m)\u001b[0m\u001b[1;33m\u001b[0m\u001b[0m\n\u001b[0m\u001b[1;32m      2\u001b[0m \u001b[1;33m\u001b[0m\u001b[0m\n\u001b[1;32m      3\u001b[0m \u001b[1;33m\u001b[0m\u001b[0m\n",
      "\u001b[0;31mNameError\u001b[0m: name 'df' is not defined"
     ]
    }
   ],
   "source": [
    "df.loc[df['RangoEtareo']=='EDAD_0A5'].corr()\n",
    "\n",
    "\n"
   ]
  },
  {
   "cell_type": "code",
   "execution_count": null,
   "metadata": {
    "collapsed": false
   },
   "outputs": [],
   "source": [
    "df.loc[df['RangoEtareo']=='EDAD_6A14'].corr()"
   ]
  },
  {
   "cell_type": "code",
   "execution_count": null,
   "metadata": {
    "collapsed": false
   },
   "outputs": [],
   "source": [
    "df.loc[df['RangoEtareo']=='EDAD_15A64'].corr()"
   ]
  },
  {
   "cell_type": "code",
   "execution_count": null,
   "metadata": {
    "collapsed": false
   },
   "outputs": [],
   "source": [
    "df.loc[df['RangoEtareo']=='EDAD_15A64'].corr()"
   ]
  },
  {
   "cell_type": "markdown",
   "metadata": {},
   "source": [
    "### 4) Gráficos"
   ]
  },
  {
   "cell_type": "code",
   "execution_count": null,
   "metadata": {
    "collapsed": true
   },
   "outputs": [],
   "source": []
  }
 ],
 "metadata": {
  "kernelspec": {
   "display_name": "Python 3",
   "language": "python",
   "name": "python3"
  },
  "language_info": {
   "codemirror_mode": {
    "name": "ipython",
    "version": 3
   },
   "file_extension": ".py",
   "mimetype": "text/x-python",
   "name": "python",
   "nbconvert_exporter": "python",
   "pygments_lexer": "ipython3",
   "version": "3.6.0"
  }
 },
 "nbformat": 4,
 "nbformat_minor": 5
}
