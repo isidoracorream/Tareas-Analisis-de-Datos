{
 "cells": [
  {
   "cell_type": "code",
   "execution_count": 23,
   "metadata": {
    "collapsed": true
   },
   "outputs": [],
   "source": [
    "import pandas as pd\n",
    "import matplotlib.pyplot as plt"
   ]
  },
  {
   "cell_type": "code",
   "execution_count": 24,
   "metadata": {
    "collapsed": true
   },
   "outputs": [],
   "source": [
    "datos = pd.read_csv('https://raw.githubusercontent.com/leoferres/gitiele356b/main/data/hdi.csv', na_values=['*'])\n",
    "datos_hdi_comuna = datos[[\"comuna\",\"HDI\"]]\n",
    "rango_edad = pd.read_csv('https://raw.githubusercontent.com/leoferres/gitiele356b/main/data/pobXedadCenso.csv', na_values=['*'])"
   ]
  },
  {
   "cell_type": "code",
   "execution_count": 25,
   "metadata": {
    "collapsed": false
   },
   "outputs": [],
   "source": [
    "rango_edad.COMUNA = rango_edad.COMUNA.astype('object')"
   ]
  },
  {
   "cell_type": "code",
   "execution_count": 26,
   "metadata": {
    "collapsed": false
   },
   "outputs": [],
   "source": [
    "vacunados = pd.read_csv('https://raw.githubusercontent.com/MinCiencia/Datos-COVID19/master/output/producto81/vacunacion_comuna_edad_1eraDosis.csv', na_values=['*'])"
   ]
  },
  {
   "cell_type": "code",
   "execution_count": 28,
   "metadata": {
    "collapsed": false
   },
   "outputs": [
    {
     "data": {
      "text/html": [
       "<div>\n",
       "<table border=\"1\" class=\"dataframe\">\n",
       "  <thead>\n",
       "    <tr style=\"text-align: right;\">\n",
       "      <th></th>\n",
       "      <th>comuna</th>\n",
       "      <th>HDI</th>\n",
       "    </tr>\n",
       "  </thead>\n",
       "  <tbody>\n",
       "    <tr>\n",
       "      <th>0</th>\n",
       "      <td>13101</td>\n",
       "      <td>0.861222</td>\n",
       "    </tr>\n",
       "    <tr>\n",
       "      <th>1</th>\n",
       "      <td>13102</td>\n",
       "      <td>0.764616</td>\n",
       "    </tr>\n",
       "    <tr>\n",
       "      <th>2</th>\n",
       "      <td>13103</td>\n",
       "      <td>0.718874</td>\n",
       "    </tr>\n",
       "    <tr>\n",
       "      <th>3</th>\n",
       "      <td>13104</td>\n",
       "      <td>0.749584</td>\n",
       "    </tr>\n",
       "    <tr>\n",
       "      <th>4</th>\n",
       "      <td>13105</td>\n",
       "      <td>0.742015</td>\n",
       "    </tr>\n",
       "  </tbody>\n",
       "</table>\n",
       "</div>"
      ],
      "text/plain": [
       "   comuna       HDI\n",
       "0   13101  0.861222\n",
       "1   13102  0.764616\n",
       "2   13103  0.718874\n",
       "3   13104  0.749584\n",
       "4   13105  0.742015"
      ]
     },
     "execution_count": 28,
     "metadata": {},
     "output_type": "execute_result"
    }
   ],
   "source": [
    "datos_hdi_comuna.head()"
   ]
  },
  {
   "cell_type": "code",
   "execution_count": 33,
   "metadata": {
    "collapsed": false
   },
   "outputs": [
    {
     "data": {
      "text/plain": [
       "0     13101\n",
       "1     13102\n",
       "2     13103\n",
       "3     13104\n",
       "4     13105\n",
       "5     13106\n",
       "6     13107\n",
       "7     13108\n",
       "8     13109\n",
       "9     13110\n",
       "10    13111\n",
       "11    13112\n",
       "12    13113\n",
       "13    13114\n",
       "14    13115\n",
       "15    13116\n",
       "16    13117\n",
       "17    13118\n",
       "18    13119\n",
       "19    13120\n",
       "20    13121\n",
       "21    13122\n",
       "22    13123\n",
       "23    13124\n",
       "24    13125\n",
       "25    13126\n",
       "26    13127\n",
       "27    13128\n",
       "28    13129\n",
       "29    13130\n",
       "30    13131\n",
       "31    13132\n",
       "32    13201\n",
       "33    13202\n",
       "34    13203\n",
       "35    13301\n",
       "36    13302\n",
       "37    13303\n",
       "38    13401\n",
       "39    13402\n",
       "40    13403\n",
       "41    13404\n",
       "42    13501\n",
       "43    13502\n",
       "44    13503\n",
       "45    13504\n",
       "46    13505\n",
       "47    13601\n",
       "48    13602\n",
       "49    13603\n",
       "50    13604\n",
       "51    13605\n",
       "Name: comuna, dtype: int64"
      ]
     },
     "execution_count": 33,
     "metadata": {},
     "output_type": "execute_result"
    }
   ],
   "source": [
    "datos_hdi_comuna[\"comuna\"]"
   ]
  },
  {
   "cell_type": "code",
   "execution_count": 35,
   "metadata": {
    "collapsed": false
   },
   "outputs": [
    {
     "data": {
      "image/png": "[encoded data removed]",
      "text/plain": [
       "<matplotlib.figure.Figure at 0x1eae0580a58>"
      ]
     },
     "metadata": {},
     "output_type": "display_data"
    },
    {
     "data": {
      "image/png": "[encoded data removed]",
      "text/plain": [
       "<matplotlib.figure.Figure at 0x1eadfe07240>"
      ]
     },
     "metadata": {},
     "output_type": "display_data"
    },
    {
     "data": {
      "image/png": "[encoded data removed]",
      "text/plain": [
       "<matplotlib.figure.Figure at 0x1eae0ea69e8>"
      ]
     },
     "metadata": {},
     "output_type": "display_data"
    },
    {
     "data": {
      "image/png": "[encoded data removed]",
      "text/plain": [
       "<matplotlib.figure.Figure at 0x1eae10695c0>"
      ]
     },
     "metadata": {},
     "output_type": "display_data"
    },
    {
     "data": {
      "image/png": "[encoded data removed]",
      "text/plain": [
       "<matplotlib.figure.Figure at 0x1eae10d6c88>"
      ]
     },
     "metadata": {},
     "output_type": "display_data"
    },
    {
     "data": {
      "image/png": "[encoded data removed]",
      "text/plain": [
       "<matplotlib.figure.Figure at 0x1eae114deb8>"
      ]
     },
     "metadata": {},
     "output_type": "display_data"
    }
   ],
   "source": [
    "fig, ax = plt.subplots()\n",
    "ax.scatter(x = datos_hdi_comuna[\"comuna\"] , y = datos_hdi_comuna[\"HDI\"])\n",
    "plt.savefig('diagrama-dispersion.png')\n",
    "plt.show()"
   ]
  },
  {
   "cell_type": "code",
   "execution_count": null,
   "metadata": {
    "collapsed": true
   },
   "outputs": [],
   "source": []
  }
 ],
 "metadata": {
  "kernelspec": {
   "display_name": "Python 3",
   "language": "python",
   "name": "python3"
  },
  "language_info": {
   "codemirror_mode": {
    "name": "ipython",
    "version": 3
   },
   "file_extension": ".py",
   "mimetype": "text/x-python",
   "name": "python",
   "nbconvert_exporter": "python",
   "pygments_lexer": "ipython3",
   "version": "3.6.0"
  }
 },
 "nbformat": 4,
 "nbformat_minor": 2
}
